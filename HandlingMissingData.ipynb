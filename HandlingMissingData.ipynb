{
 "cells": [
  {
   "cell_type": "markdown",
   "metadata": {},
   "source": [
    "### Handling Missing Data"
   ]
  },
  {
   "cell_type": "code",
   "execution_count": null,
   "metadata": {},
   "outputs": [
    {
     "data": {
      "text/plain": [
       "'\\nLý do chính là với tỷ lệ thiếu dữ liệu lớn như vậy, các cột đó không cung cấp đủ thông tin để phản ánh một cách đáng tin cậy về dữ liệu của tập dữ liệu.\\n'"
      ]
     },
     "execution_count": 15,
     "metadata": {},
     "output_type": "execute_result"
    }
   ],
   "source": [
    "# Lọc các cột tồn tại trong DataFrame và xóa các cột có tỷ lệ rỗng lớn hơn 50%\n",
    "columns_to_drop = [col for col in ['Japanese_name', 'Release_season', 'End_year', 'Content_Warning', 'Related_Mange'] if col in df.columns]\n",
    "df.drop(columns=columns_to_drop, axis=1, inplace=True)\n",
    "\n",
    "'''\n",
    "Lý do chính là với tỷ lệ thiếu dữ liệu lớn như vậy, các cột đó không cung cấp đủ thông tin để phản ánh một cách đáng tin cậy về dữ liệu của tập dữ liệu.\n",
    "'''"
   ]
  },
  {
   "cell_type": "code",
   "execution_count": 8,
   "metadata": {},
   "outputs": [
    {
     "name": "stdout",
     "output_type": "stream",
     "text": [
      "<class 'pandas.core.frame.DataFrame'>\n",
      "RangeIndex: 18495 entries, 0 to 18494\n",
      "Data columns (total 12 columns):\n",
      " #   Column         Non-Null Count  Dtype  \n",
      "---  ------         --------------  -----  \n",
      " 0   Rank           18495 non-null  int64  \n",
      " 1   Name           18495 non-null  object \n",
      " 2   Type           18495 non-null  object \n",
      " 3   Episodes       9501 non-null   float64\n",
      " 4   Studio         12018 non-null  object \n",
      " 5   Tags           18095 non-null  object \n",
      " 6   Rating         15364 non-null  float64\n",
      " 7   Release_year   18112 non-null  float64\n",
      " 8   Description    18491 non-null  object \n",
      " 9   Related_anime  10063 non-null  object \n",
      " 10  Voice_actors   15309 non-null  object \n",
      " 11  staff          13005 non-null  object \n",
      "dtypes: float64(3), int64(1), object(8)\n",
      "memory usage: 1.7+ MB\n"
     ]
    }
   ],
   "source": [
    "df.info()"
   ]
  },
  {
   "cell_type": "code",
   "execution_count": 13,
   "metadata": {},
   "outputs": [
    {
     "name": "stdout",
     "output_type": "stream",
     "text": [
      "Rank: 0.00%\n",
      "Name: 0.00%\n",
      "Type: 0.00%\n",
      "Tags: 2.16%\n",
      "Release_year: 2.07%\n",
      "Description: 0.02%\n"
     ]
    }
   ],
   "source": [
    "# Tính phần trăm dòng null cho mỗi cột\n",
    "null_percentages = {column: (null_count / total_rows) * 100 for column, null_count in null_counts.items()}\n",
    "\n",
    "# Ngưỡng\n",
    "threshold = 10  # Chỉ xem xét các cột có ít hơn 10% dòng null\n",
    "\n",
    "# In ra các cột có phần trăm dòng null nhỏ hơn ngưỡng\n",
    "for column, percentage in null_percentages.items():\n",
    "    if percentage < threshold:\n",
    "        print(f\"{column}: {percentage:.2f}%\")\n"
   ]
  },
  {
   "cell_type": "code",
   "execution_count": 16,
   "metadata": {},
   "outputs": [
    {
     "name": "stdout",
     "output_type": "stream",
     "text": [
      "2007\n"
     ]
    }
   ],
   "source": [
    "# điền vào những ô thiếu của cột Release_year dùng mean\n",
    "mean_Release_year = df['Release_year'].mean().__ceil__()\n",
    "print(mean_Release_year)"
   ]
  },
  {
   "cell_type": "code",
   "execution_count": 19,
   "metadata": {},
   "outputs": [
    {
     "data": {
      "text/plain": [
       "Rank                0\n",
       "Name                0\n",
       "Type                0\n",
       "Episodes         8994\n",
       "Studio           6477\n",
       "Tags              400\n",
       "Rating           3131\n",
       "Release_year        0\n",
       "Description         4\n",
       "Related_anime    8432\n",
       "Voice_actors     3186\n",
       "staff            5490\n",
       "dtype: int64"
      ]
     },
     "execution_count": 19,
     "metadata": {},
     "output_type": "execute_result"
    }
   ],
   "source": [
    "df['Release_year'] = df['Release_year'].fillna(np.ceil(mean_Release_year)).astype(int)\n",
    "\n",
    "# Kiểm tra lại\n",
    "df.isnull().sum()\n"
   ]
  },
  {
   "cell_type": "code",
   "execution_count": 20,
   "metadata": {},
   "outputs": [
    {
     "name": "stdout",
     "output_type": "stream",
     "text": [
      "Vocaloid\n"
     ]
    }
   ],
   "source": [
    "# Xử lý cột Tags bằng cách thay thế các ô rỗng bằng giá trị xuất hiện nhiều nhất (mode())\n",
    "mode_Tags = df['Tags'].mode()[0]\n",
    "print(mode_Tags)"
   ]
  },
  {
   "cell_type": "code",
   "execution_count": 22,
   "metadata": {},
   "outputs": [
    {
     "data": {
      "text/plain": [
       "Rank                0\n",
       "Name                0\n",
       "Type                0\n",
       "Episodes         8994\n",
       "Studio           6477\n",
       "Tags                0\n",
       "Rating           3131\n",
       "Release_year        0\n",
       "Description         4\n",
       "Related_anime    8432\n",
       "Voice_actors     3186\n",
       "staff            5490\n",
       "dtype: int64"
      ]
     },
     "execution_count": 22,
     "metadata": {},
     "output_type": "execute_result"
    }
   ],
   "source": [
    "# Thay thế các ô rỗng bằng giá trị mode trong cột 'Tags'\n",
    "df['Tags'] = df['Tags'].fillna(mode_Tags)\n",
    "\n",
    "# Kiểm tra lại số lượng giá trị thiếu\n",
    "df.isnull().sum()\n"
   ]
  },
  {
   "cell_type": "code",
   "execution_count": 23,
   "metadata": {},
   "outputs": [
    {
     "data": {
      "text/plain": [
       "Rank                0\n",
       "Name                0\n",
       "Type                0\n",
       "Episodes         8993\n",
       "Studio           6474\n",
       "Tags                0\n",
       "Rating           3128\n",
       "Release_year        0\n",
       "Description         0\n",
       "Related_anime    8429\n",
       "Voice_actors     3184\n",
       "staff            5487\n",
       "dtype: int64"
      ]
     },
     "execution_count": 23,
     "metadata": {},
     "output_type": "execute_result"
    }
   ],
   "source": [
    "# Vì ở cột Description có 4 dòng rỗng nên ta sẽ xóa các dòng đó\n",
    "df.dropna(subset=['Description'], inplace=True)\n",
    "\n",
    "# Kiểm tra lại\n",
    "df.isnull().sum()"
   ]
  },
  {
   "cell_type": "code",
   "execution_count": 24,
   "metadata": {},
   "outputs": [
    {
     "name": "stdout",
     "output_type": "stream",
     "text": [
      "Trung vị của cột Episodes: 12.0\n"
     ]
    }
   ],
   "source": [
    "median_value = df['Episodes'].median()\n",
    "print(\"Trung vị của cột Episodes:\", median_value)"
   ]
  },
  {
   "cell_type": "code",
   "execution_count": 25,
   "metadata": {},
   "outputs": [],
   "source": [
    "# # Vẽ box plot\n",
    "# plt.figure(figsize=(8, 6))\n",
    "# sns.boxplot(y='Episodes', data=df)\n",
    "# plt.title('Box Plot of Episodes')\n",
    "# plt.ylabel('Episodes')\n",
    "# plt.show()"
   ]
  },
  {
   "cell_type": "code",
   "execution_count": 28,
   "metadata": {},
   "outputs": [
    {
     "data": {
      "text/plain": [
       "Rank                0\n",
       "Name                0\n",
       "Type                0\n",
       "Episodes            0\n",
       "Studio           6474\n",
       "Tags                0\n",
       "Rating           3128\n",
       "Release_year        0\n",
       "Description         0\n",
       "Related_anime    8429\n",
       "Voice_actors     3184\n",
       "staff            5487\n",
       "dtype: int64"
      ]
     },
     "execution_count": 28,
     "metadata": {},
     "output_type": "execute_result"
    }
   ],
   "source": [
    "# Điền vào những ô thiếu của cột 'Episodes' bằng giá trị trung vị\n",
    "df.loc[:, 'Episodes'] = df['Episodes'].fillna(median_value).astype(int)\n",
    "\n",
    "# Kiểm tra lại số lượng giá trị thiếu\n",
    "df.isnull().sum()\n",
    "\n",
    "# # in ra những dòng của cột Episodes có giá trị bằng 12\n",
    "# df[df['Episodes'] == 12]\n"
   ]
  },
  {
   "cell_type": "code",
   "execution_count": 29,
   "metadata": {},
   "outputs": [
    {
     "name": "stdout",
     "output_type": "stream",
     "text": [
      "Toei Animation\n"
     ]
    }
   ],
   "source": [
    "# Xử lý cột Studio bằng mode\n",
    "\n",
    "mode_Studio = df['Studio'].mode()[0]\n",
    "print(mode_Studio)"
   ]
  },
  {
   "cell_type": "code",
   "execution_count": 31,
   "metadata": {},
   "outputs": [
    {
     "data": {
      "text/plain": [
       "Rank                0\n",
       "Name                0\n",
       "Type                0\n",
       "Episodes            0\n",
       "Studio              0\n",
       "Tags                0\n",
       "Rating           3128\n",
       "Release_year        0\n",
       "Description         0\n",
       "Related_anime    8429\n",
       "Voice_actors     3184\n",
       "staff            5487\n",
       "dtype: int64"
      ]
     },
     "execution_count": 31,
     "metadata": {},
     "output_type": "execute_result"
    }
   ],
   "source": [
    "# Thay thế các ô rỗng bằng giá trị mode\n",
    "df['Studio'].fillna(mode_Studio, inplace=True)\n",
    "\n",
    "# Kiểm tra lại\n",
    "df.isnull().sum()\n",
    "\n",
    "# # in ra những dòng của cột Studio có giá trị bằng 'Studio Deen'\n",
    "# df[df['Studio'] == 'Toei Animation']"
   ]
  }
 ],
 "metadata": {
  "kernelspec": {
   "display_name": "Python 3",
   "language": "python",
   "name": "python3"
  },
  "language_info": {
   "codemirror_mode": {
    "name": "ipython",
    "version": 3
   },
   "file_extension": ".py",
   "mimetype": "text/x-python",
   "name": "python",
   "nbconvert_exporter": "python",
   "pygments_lexer": "ipython3",
   "version": "3.13.0"
  }
 },
 "nbformat": 4,
 "nbformat_minor": 2
}
