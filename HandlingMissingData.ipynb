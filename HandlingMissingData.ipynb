{
 "cells": [
  {
   "cell_type": "markdown",
   "metadata": {},
   "source": [
    "### Handling Missing Data"
   ]
  },
  {
   "cell_type": "code",
<<<<<<< HEAD
   "execution_count": null,
=======
   "execution_count": 15,
>>>>>>> af9b134 (Add HandlingMissingData notebook)
   "metadata": {},
   "outputs": [
    {
     "data": {
      "text/plain": [
       "'\\nLý do chính là với tỷ lệ thiếu dữ liệu lớn như vậy, các cột đó không cung cấp đủ thông tin để phản ánh một cách đáng tin cậy về dữ liệu của tập dữ liệu.\\n'"
      ]
     },
     "execution_count": 15,
     "metadata": {},
     "output_type": "execute_result"
    }
   ],
   "source": [
    "# Lọc các cột tồn tại trong DataFrame và xóa các cột có tỷ lệ rỗng lớn hơn 50%\n",
    "columns_to_drop = [col for col in ['Japanese_name', 'Release_season', 'End_year', 'Content_Warning', 'Related_Mange'] if col in df.columns]\n",
    "df.drop(columns=columns_to_drop, axis=1, inplace=True)\n",
    "\n",
    "'''\n",
    "Lý do chính là với tỷ lệ thiếu dữ liệu lớn như vậy, các cột đó không cung cấp đủ thông tin để phản ánh một cách đáng tin cậy về dữ liệu của tập dữ liệu.\n",
    "'''"
   ]
  },
  {
   "cell_type": "code",
<<<<<<< HEAD
   "execution_count": 8,
=======
   "execution_count": null,
   "metadata": {},
   "outputs": [],
   "source": [
    "# Đếm số lượng outliers\n",
    "# Q1 = df['Rating'].quantile(0.25)\n",
    "# Q3 = df['Rating'].quantile(0.75)\n",
    "# IQR = Q3 - Q1\n",
    "# outliers = df[(df['Rating'] < Q1 - 1.5 * IQR) | (df['Rating'] > Q3 + 1.5 * IQR)]\n",
    "# outliers_count = outliers.shape[0]\n",
    "# print(\"Số lượng outliers:\", outliers_count)\n"
   ]
  },
  {
   "cell_type": "code",
   "execution_count": 16,
   "metadata": {},
   "outputs": [
    {
     "data": {
      "text/plain": [
       "'\\nPhân phối của dữ liệu: Kiểm tra phân phối của dữ liệu rating. Nếu dữ liệu không có độ lệch lớn và không có outliers đáng kể, thì việc sử dụng mean có thể phù hợp. Tuy nhiên, nếu có outliers hoặc phân phối không đồng đều, median có thể là lựa chọn tốt hơn.\\n\\nTính ổn định của dữ liệu: Nếu dữ liệu không ổn định hoặc bị ảnh hưởng bởi các giá trị ngoại lệ (outliers), việc sử dụng mean có thể làm biến đổi dữ liệu nhiều. Trong trường hợp này, median thường là lựa chọn tốt hơn, vì nó ít bị ảnh hưởng bởi các giá trị ngoại lệ.\\n\\nSố lượng giá trị thiếu: Nếu có một số lượng lớn các giá trị thiếu trong cột \"Rating\" và dữ liệu không quá phức tạp, mode có thể được sử dụng. Tuy nhiên, nếu số lượng giá trị thiếu không nhiều hoặc dữ liệu phức tạp, median hoặc mean có thể mang lại kết quả tốt hơn.\\n'"
      ]
     },
     "execution_count": 16,
     "metadata": {},
     "output_type": "execute_result"
    }
   ],
   "source": [
    "# # Vẽ box plot của cột Rating\n",
    "# plt.figure(figsize=(8, 6))\n",
    "# sns.boxplot(y='Rating', data=df)\n",
    "# plt.title('Box Plot of Rating')\n",
    "# plt.ylabel('Rating')\n",
    "# plt.show()\n",
    "\n",
    "'''\n",
    "Phân phối của dữ liệu: Kiểm tra phân phối của dữ liệu rating. Nếu dữ liệu không có độ lệch lớn và không có outliers đáng kể, thì việc sử dụng mean có thể phù hợp. Tuy nhiên, nếu có outliers hoặc phân phối không đồng đều, median có thể là lựa chọn tốt hơn.\n",
    "\n",
    "Tính ổn định của dữ liệu: Nếu dữ liệu không ổn định hoặc bị ảnh hưởng bởi các giá trị ngoại lệ (outliers), việc sử dụng mean có thể làm biến đổi dữ liệu nhiều. Trong trường hợp này, median thường là lựa chọn tốt hơn, vì nó ít bị ảnh hưởng bởi các giá trị ngoại lệ.\n",
    "\n",
    "Số lượng giá trị thiếu: Nếu có một số lượng lớn các giá trị thiếu trong cột \"Rating\" và dữ liệu không quá phức tạp, mode có thể được sử dụng. Tuy nhiên, nếu số lượng giá trị thiếu không nhiều hoặc dữ liệu phức tạp, median hoặc mean có thể mang lại kết quả tốt hơn.\n",
    "'''\n",
    "\n"
   ]
  },
  {
   "cell_type": "code",
   "execution_count": 17,
>>>>>>> af9b134 (Add HandlingMissingData notebook)
   "metadata": {},
   "outputs": [
    {
     "name": "stdout",
     "output_type": "stream",
     "text": [
      "<class 'pandas.core.frame.DataFrame'>\n",
      "RangeIndex: 18495 entries, 0 to 18494\n",
      "Data columns (total 12 columns):\n",
      " #   Column         Non-Null Count  Dtype  \n",
      "---  ------         --------------  -----  \n",
      " 0   Rank           18495 non-null  int64  \n",
      " 1   Name           18495 non-null  object \n",
      " 2   Type           18495 non-null  object \n",
      " 3   Episodes       9501 non-null   float64\n",
      " 4   Studio         12018 non-null  object \n",
      " 5   Tags           18095 non-null  object \n",
      " 6   Rating         15364 non-null  float64\n",
      " 7   Release_year   18112 non-null  float64\n",
      " 8   Description    18491 non-null  object \n",
      " 9   Related_anime  10063 non-null  object \n",
      " 10  Voice_actors   15309 non-null  object \n",
      " 11  staff          13005 non-null  object \n",
      "dtypes: float64(3), int64(1), object(8)\n",
      "memory usage: 1.7+ MB\n"
     ]
    }
   ],
   "source": [
    "df.info()"
   ]
  },
  {
   "cell_type": "code",
<<<<<<< HEAD
   "execution_count": 13,
=======
   "execution_count": 18,
>>>>>>> af9b134 (Add HandlingMissingData notebook)
   "metadata": {},
   "outputs": [
    {
     "name": "stdout",
     "output_type": "stream",
     "text": [
      "Rank: 0.00%\n",
      "Name: 0.00%\n",
      "Type: 0.00%\n",
      "Tags: 2.16%\n",
      "Release_year: 2.07%\n",
      "Description: 0.02%\n"
     ]
    }
   ],
   "source": [
    "# Tính phần trăm dòng null cho mỗi cột\n",
    "null_percentages = {column: (null_count / total_rows) * 100 for column, null_count in null_counts.items()}\n",
    "\n",
    "# Ngưỡng\n",
    "threshold = 10  # Chỉ xem xét các cột có ít hơn 10% dòng null\n",
    "\n",
    "# In ra các cột có phần trăm dòng null nhỏ hơn ngưỡng\n",
    "for column, percentage in null_percentages.items():\n",
    "    if percentage < threshold:\n",
    "        print(f\"{column}: {percentage:.2f}%\")\n"
   ]
  },
  {
   "cell_type": "code",
<<<<<<< HEAD
   "execution_count": 16,
=======
   "execution_count": 19,
>>>>>>> af9b134 (Add HandlingMissingData notebook)
   "metadata": {},
   "outputs": [
    {
     "name": "stdout",
     "output_type": "stream",
     "text": [
      "2007\n"
     ]
    }
   ],
   "source": [
    "# điền vào những ô thiếu của cột Release_year dùng mean\n",
    "mean_Release_year = df['Release_year'].mean().__ceil__()\n",
    "print(mean_Release_year)"
   ]
  },
  {
   "cell_type": "code",
<<<<<<< HEAD
   "execution_count": 19,
=======
   "execution_count": 20,
>>>>>>> af9b134 (Add HandlingMissingData notebook)
   "metadata": {},
   "outputs": [
    {
     "data": {
      "text/plain": [
       "Rank                0\n",
       "Name                0\n",
       "Type                0\n",
       "Episodes         8994\n",
       "Studio           6477\n",
       "Tags              400\n",
       "Rating           3131\n",
       "Release_year        0\n",
       "Description         4\n",
       "Related_anime    8432\n",
       "Voice_actors     3186\n",
       "staff            5490\n",
       "dtype: int64"
      ]
     },
<<<<<<< HEAD
     "execution_count": 19,
=======
     "execution_count": 20,
>>>>>>> af9b134 (Add HandlingMissingData notebook)
     "metadata": {},
     "output_type": "execute_result"
    }
   ],
   "source": [
    "df['Release_year'] = df['Release_year'].fillna(np.ceil(mean_Release_year)).astype(int)\n",
    "\n",
    "# Kiểm tra lại\n",
    "df.isnull().sum()\n"
   ]
  },
  {
   "cell_type": "code",
<<<<<<< HEAD
   "execution_count": 20,
=======
   "execution_count": 21,
>>>>>>> af9b134 (Add HandlingMissingData notebook)
   "metadata": {},
   "outputs": [
    {
     "name": "stdout",
     "output_type": "stream",
     "text": [
      "Vocaloid\n"
     ]
    }
   ],
   "source": [
    "# Xử lý cột Tags bằng cách thay thế các ô rỗng bằng giá trị xuất hiện nhiều nhất (mode())\n",
    "mode_Tags = df['Tags'].mode()[0]\n",
    "print(mode_Tags)"
   ]
  },
  {
   "cell_type": "code",
   "execution_count": 22,
   "metadata": {},
   "outputs": [
    {
     "data": {
      "text/plain": [
       "Rank                0\n",
       "Name                0\n",
       "Type                0\n",
       "Episodes         8994\n",
       "Studio           6477\n",
       "Tags                0\n",
       "Rating           3131\n",
       "Release_year        0\n",
       "Description         4\n",
       "Related_anime    8432\n",
       "Voice_actors     3186\n",
       "staff            5490\n",
       "dtype: int64"
      ]
     },
     "execution_count": 22,
     "metadata": {},
     "output_type": "execute_result"
    }
   ],
   "source": [
    "# Thay thế các ô rỗng bằng giá trị mode trong cột 'Tags'\n",
    "df['Tags'] = df['Tags'].fillna(mode_Tags)\n",
    "\n",
    "# Kiểm tra lại số lượng giá trị thiếu\n",
    "df.isnull().sum()\n"
   ]
  },
  {
   "cell_type": "code",
   "execution_count": 23,
   "metadata": {},
   "outputs": [
    {
     "data": {
      "text/plain": [
       "Rank                0\n",
       "Name                0\n",
       "Type                0\n",
       "Episodes         8993\n",
       "Studio           6474\n",
       "Tags                0\n",
       "Rating           3128\n",
       "Release_year        0\n",
       "Description         0\n",
       "Related_anime    8429\n",
       "Voice_actors     3184\n",
       "staff            5487\n",
       "dtype: int64"
      ]
     },
     "execution_count": 23,
     "metadata": {},
     "output_type": "execute_result"
    }
   ],
   "source": [
    "# Vì ở cột Description có 4 dòng rỗng nên ta sẽ xóa các dòng đó\n",
    "df.dropna(subset=['Description'], inplace=True)\n",
    "\n",
    "# Kiểm tra lại\n",
    "df.isnull().sum()"
   ]
  },
  {
   "cell_type": "code",
   "execution_count": 24,
   "metadata": {},
   "outputs": [
    {
     "name": "stdout",
     "output_type": "stream",
     "text": [
      "Trung vị của cột Episodes: 12.0\n"
     ]
    }
   ],
   "source": [
    "median_value = df['Episodes'].median()\n",
    "print(\"Trung vị của cột Episodes:\", median_value)"
   ]
  },
  {
   "cell_type": "code",
   "execution_count": 25,
   "metadata": {},
   "outputs": [],
   "source": [
    "# # Vẽ box plot\n",
    "# plt.figure(figsize=(8, 6))\n",
    "# sns.boxplot(y='Episodes', data=df)\n",
    "# plt.title('Box Plot of Episodes')\n",
    "# plt.ylabel('Episodes')\n",
    "# plt.show()"
   ]
  },
  {
   "cell_type": "code",
<<<<<<< HEAD
   "execution_count": 28,
=======
   "execution_count": 26,
>>>>>>> af9b134 (Add HandlingMissingData notebook)
   "metadata": {},
   "outputs": [
    {
     "data": {
      "text/plain": [
       "Rank                0\n",
       "Name                0\n",
       "Type                0\n",
       "Episodes            0\n",
       "Studio           6474\n",
       "Tags                0\n",
       "Rating           3128\n",
       "Release_year        0\n",
       "Description         0\n",
       "Related_anime    8429\n",
       "Voice_actors     3184\n",
       "staff            5487\n",
       "dtype: int64"
      ]
     },
<<<<<<< HEAD
     "execution_count": 28,
=======
     "execution_count": 26,
>>>>>>> af9b134 (Add HandlingMissingData notebook)
     "metadata": {},
     "output_type": "execute_result"
    }
   ],
   "source": [
    "# Điền vào những ô thiếu của cột 'Episodes' bằng giá trị trung vị\n",
    "df.loc[:, 'Episodes'] = df['Episodes'].fillna(median_value).astype(int)\n",
    "\n",
    "# Kiểm tra lại số lượng giá trị thiếu\n",
    "df.isnull().sum()\n",
    "\n",
    "# # in ra những dòng của cột Episodes có giá trị bằng 12\n",
    "# df[df['Episodes'] == 12]\n"
   ]
  },
  {
   "cell_type": "code",
<<<<<<< HEAD
   "execution_count": 29,
=======
   "execution_count": 27,
>>>>>>> af9b134 (Add HandlingMissingData notebook)
   "metadata": {},
   "outputs": [
    {
     "name": "stdout",
     "output_type": "stream",
     "text": [
      "Toei Animation\n"
     ]
    }
   ],
   "source": [
    "# Xử lý cột Studio bằng mode\n",
    "\n",
    "mode_Studio = df['Studio'].mode()[0]\n",
    "print(mode_Studio)"
   ]
  },
  {
   "cell_type": "code",
<<<<<<< HEAD
   "execution_count": 31,
=======
   "execution_count": 48,
   "metadata": {},
   "outputs": [
    {
     "data": {
      "text/plain": [
       "Rank             0\n",
       "Name             0\n",
       "Type             0\n",
       "Episodes         0\n",
       "Studio           0\n",
       "Tags             0\n",
       "Rating           0\n",
       "Release_year     0\n",
       "Description      0\n",
       "Related_anime    0\n",
       "Voice_actors     0\n",
       "staff            0\n",
       "dtype: int64"
      ]
     },
     "execution_count": 48,
     "metadata": {},
     "output_type": "execute_result"
    }
   ],
   "source": [
    "# Thay thế các ô rỗng bằng giá trị mode\n",
    "df['Studio'].fillna(mode_Studio)\n",
    "\n",
    "# Kiểm tra lại\n",
    "df.isnull().sum()\n",
    "\n",
    "# # in ra những dòng của cột Studio có giá trị bằng 'Studio Deen'\n",
    "# df[df['Studio'] == 'Toei Animation']"
   ]
  },
  {
   "cell_type": "code",
   "execution_count": 29,
   "metadata": {},
   "outputs": [
    {
     "data": {
      "text/plain": [
       "'\\nPhân phối của dữ liệu: Kiểm tra phân phối của dữ liệu rating. Nếu dữ liệu không có độ lệch lớn và không có outliers đáng kể, thì việc sử dụng mean có thể phù hợp. Tuy nhiên, nếu có outliers hoặc phân phối không đồng đều, median có thể là lựa chọn tốt hơn.\\n\\nTính ổn định của dữ liệu: Nếu dữ liệu không ổn định hoặc bị ảnh hưởng bởi các giá trị ngoại lệ (outliers), việc sử dụng mean có thể làm biến đổi dữ liệu nhiều. Trong trường hợp này, median thường là lựa chọn tốt hơn, vì nó ít bị ảnh hưởng bởi các giá trị ngoại lệ.\\n\\nSố lượng giá trị thiếu: Nếu có một số lượng lớn các giá trị thiếu trong cột \"Rating\" và dữ liệu không quá phức tạp, mode có thể được sử dụng. Tuy nhiên, nếu số lượng giá trị thiếu không nhiều hoặc dữ liệu phức tạp, median hoặc mean có thể mang lại kết quả tốt hơn.\\n'"
      ]
     },
     "execution_count": 29,
     "metadata": {},
     "output_type": "execute_result"
    }
   ],
   "source": [
    "# # Vẽ box plot của cột Rating\n",
    "# plt.figure(figsize=(8, 6))\n",
    "# sns.boxplot(y='Rating', data=df)\n",
    "# plt.title('Box Plot of Rating')\n",
    "# plt.ylabel('Rating')\n",
    "# plt.show()\n",
    "\n",
    "'''\n",
    "Phân phối của dữ liệu: Kiểm tra phân phối của dữ liệu rating. Nếu dữ liệu không có độ lệch lớn và không có outliers đáng kể, thì việc sử dụng mean có thể phù hợp. Tuy nhiên, nếu có outliers hoặc phân phối không đồng đều, median có thể là lựa chọn tốt hơn.\n",
    "\n",
    "Tính ổn định của dữ liệu: Nếu dữ liệu không ổn định hoặc bị ảnh hưởng bởi các giá trị ngoại lệ (outliers), việc sử dụng mean có thể làm biến đổi dữ liệu nhiều. Trong trường hợp này, median thường là lựa chọn tốt hơn, vì nó ít bị ảnh hưởng bởi các giá trị ngoại lệ.\n",
    "\n",
    "Số lượng giá trị thiếu: Nếu có một số lượng lớn các giá trị thiếu trong cột \"Rating\" và dữ liệu không quá phức tạp, mode có thể được sử dụng. Tuy nhiên, nếu số lượng giá trị thiếu không nhiều hoặc dữ liệu phức tạp, median hoặc mean có thể mang lại kết quả tốt hơn.\n",
    "'''\n",
    "\n"
   ]
  },
  {
   "cell_type": "code",
   "execution_count": 30,
   "metadata": {},
   "outputs": [],
   "source": [
    "# Đếm số lượng outliers\n",
    "# Q1 = df['Rating'].quantile(0.25)\n",
    "# Q3 = df['Rating'].quantile(0.75)\n",
    "# IQR = Q3 - Q1\n",
    "# outliers = df[(df['Rating'] < Q1 - 1.5 * IQR) | (df['Rating'] > Q3 + 1.5 * IQR)]\n",
    "# outliers_count = outliers.shape[0]\n",
    "# print(\"Số lượng outliers:\", outliers_count)\n"
   ]
  },
  {
   "cell_type": "code",
   "execution_count": 47,
   "metadata": {},
   "outputs": [
    {
     "name": "stdout",
     "output_type": "stream",
     "text": [
      "Median của cột Rating: 3.36\n"
     ]
    }
   ],
   "source": [
    "median_Rating = df['Rating'].median()\n",
    "print(\"Median của cột Rating:\", median_Rating)"
   ]
  },
  {
   "cell_type": "code",
   "execution_count": 33,
>>>>>>> af9b134 (Add HandlingMissingData notebook)
   "metadata": {},
   "outputs": [
    {
     "data": {
      "text/plain": [
       "Rank                0\n",
       "Name                0\n",
       "Type                0\n",
       "Episodes            0\n",
       "Studio              0\n",
       "Tags                0\n",
<<<<<<< HEAD
       "Rating           3128\n",
=======
       "Rating              0\n",
>>>>>>> af9b134 (Add HandlingMissingData notebook)
       "Release_year        0\n",
       "Description         0\n",
       "Related_anime    8429\n",
       "Voice_actors     3184\n",
       "staff            5487\n",
       "dtype: int64"
      ]
     },
<<<<<<< HEAD
     "execution_count": 31,
=======
     "execution_count": 33,
     "metadata": {},
     "output_type": "execute_result"
    }
   ],
   "source": [
    "# Điền vào những ô thiếu của cột Rating bằng giá trị trung vị\n",
    "df['Rating'].fillna(median_Rating)\n",
    "\n",
    "# Kiểm tra lại\n",
    "df.isnull().sum()\n",
    "\n",
    "# # in ra những dòng của cột Rating có giá trị bằng 3.36\n",
    "# df[df['Rating'] == 3.36]"
   ]
  },
  {
   "cell_type": "code",
   "execution_count": 34,
   "metadata": {},
   "outputs": [
    {
     "name": "stdout",
     "output_type": "stream",
     "text": [
      "One Piece\n"
     ]
    }
   ],
   "source": [
    "# Related_anime dùng mode\n",
    "mode_Related_anime = df['Related_anime'].mode()[0]\n",
    "print(mode_Related_anime)"
   ]
  },
  {
   "cell_type": "code",
   "execution_count": 36,
   "metadata": {},
   "outputs": [
    {
     "data": {
      "text/plain": [
       "Rank                0\n",
       "Name                0\n",
       "Type                0\n",
       "Episodes            0\n",
       "Studio              0\n",
       "Tags                0\n",
       "Rating              0\n",
       "Release_year        0\n",
       "Description         0\n",
       "Related_anime       0\n",
       "Voice_actors     3184\n",
       "staff            5487\n",
       "dtype: int64"
      ]
     },
     "execution_count": 36,
>>>>>>> af9b134 (Add HandlingMissingData notebook)
     "metadata": {},
     "output_type": "execute_result"
    }
   ],
   "source": [
    "# Thay thế các ô rỗng bằng giá trị mode\n",
<<<<<<< HEAD
    "df['Studio'].fillna(mode_Studio, inplace=True)\n",
    "\n",
    "# Kiểm tra lại\n",
    "df.isnull().sum()\n",
    "\n",
    "# # in ra những dòng của cột Studio có giá trị bằng 'Studio Deen'\n",
    "# df[df['Studio'] == 'Toei Animation']"
=======
    "df['Related_anime'].fillna(mode_Related_anime)\n",
    "\n",
    "# Kiểm tra lại\n",
    "df.isnull().sum()"
   ]
  },
  {
   "cell_type": "code",
   "execution_count": 38,
   "metadata": {},
   "outputs": [
    {
     "name": "stdout",
     "output_type": "stream",
     "text": [
      "Taku Furukawa\n",
      "Director\n"
     ]
    }
   ],
   "source": [
    "# Voice_actors dùng mode\n",
    "mode_Voice_actors = df['Voice_actors'].mode()[0]\n",
    "print(mode_Voice_actors)"
   ]
  },
  {
   "cell_type": "code",
   "execution_count": 46,
   "metadata": {},
   "outputs": [
    {
     "data": {
      "text/plain": [
       "Rank             0\n",
       "Name             0\n",
       "Type             0\n",
       "Episodes         0\n",
       "Studio           0\n",
       "Tags             0\n",
       "Rating           0\n",
       "Release_year     0\n",
       "Description      0\n",
       "Related_anime    0\n",
       "Voice_actors     0\n",
       "staff            0\n",
       "dtype: int64"
      ]
     },
     "execution_count": 46,
     "metadata": {},
     "output_type": "execute_result"
    }
   ],
   "source": [
    "# Thay thế các ô rỗng bằng giá trị mode\n",
    "df['Voice_actors'].fillna(mode_Voice_actors)\n",
    "\n",
    "# Kiểm tra lại\n",
    "df.isnull().sum()"
   ]
  },
  {
   "cell_type": "code",
   "execution_count": 40,
   "metadata": {},
   "outputs": [
    {
     "name": "stdout",
     "output_type": "stream",
     "text": [
      "Pinocchio-P : Producer\n"
     ]
    }
   ],
   "source": [
    "# Staff dùng mode\n",
    "mode_Staff = df['staff'].mode()[0]\n",
    "print(mode_Staff)"
   ]
  },
  {
   "cell_type": "code",
   "execution_count": 44,
   "metadata": {},
   "outputs": [
    {
     "data": {
      "text/plain": [
       "Rank                0\n",
       "Name                0\n",
       "Type                0\n",
       "Episodes            0\n",
       "Studio              0\n",
       "Tags                0\n",
       "Rating              0\n",
       "Release_year        0\n",
       "Description         0\n",
       "Related_anime       0\n",
       "Voice_actors     3184\n",
       "staff               0\n",
       "dtype: int64"
      ]
     },
     "execution_count": 44,
     "metadata": {},
     "output_type": "execute_result"
    }
   ],
   "source": [
    "# Thay thế các ô rỗng bằng giá trị mode\n",
    "df['staff'].fillna(mode_Staff)\n",
    "\n",
    "# Kiểm tra lại\n",
    "df.isnull().sum()"
   ]
  },
  {
   "cell_type": "code",
   "execution_count": 41,
   "metadata": {},
   "outputs": [
    {
     "name": "stdout",
     "output_type": "stream",
     "text": [
      "<class 'pandas.core.frame.DataFrame'>\n",
      "Index: 18491 entries, 0 to 18494\n",
      "Data columns (total 12 columns):\n",
      " #   Column         Non-Null Count  Dtype  \n",
      "---  ------         --------------  -----  \n",
      " 0   Rank           18491 non-null  int64  \n",
      " 1   Name           18491 non-null  object \n",
      " 2   Type           18491 non-null  object \n",
      " 3   Episodes       18491 non-null  float64\n",
      " 4   Studio         18491 non-null  object \n",
      " 5   Tags           18491 non-null  object \n",
      " 6   Rating         18491 non-null  float64\n",
      " 7   Release_year   18491 non-null  int64  \n",
      " 8   Description    18491 non-null  object \n",
      " 9   Related_anime  18491 non-null  object \n",
      " 10  Voice_actors   15307 non-null  object \n",
      " 11  staff          13004 non-null  object \n",
      "dtypes: float64(2), int64(2), object(8)\n",
      "memory usage: 1.8+ MB\n"
     ]
    }
   ],
   "source": [
    "df.info()"
>>>>>>> af9b134 (Add HandlingMissingData notebook)
   ]
  }
 ],
 "metadata": {
  "kernelspec": {
   "display_name": "Python 3",
   "language": "python",
   "name": "python3"
  },
  "language_info": {
   "codemirror_mode": {
    "name": "ipython",
    "version": 3
   },
   "file_extension": ".py",
   "mimetype": "text/x-python",
   "name": "python",
   "nbconvert_exporter": "python",
   "pygments_lexer": "ipython3",
<<<<<<< HEAD
   "version": "3.13.0"
=======
   "version": "3.10.7"
>>>>>>> af9b134 (Add HandlingMissingData notebook)
  }
 },
 "nbformat": 4,
 "nbformat_minor": 2
}
